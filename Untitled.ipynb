{
 "cells": [
  {
   "cell_type": "code",
   "execution_count": 4,
   "id": "91580975",
   "metadata": {},
   "outputs": [],
   "source": [
    "import csv\n",
    "import io"
   ]
  },
  {
   "cell_type": "code",
   "execution_count": 5,
   "id": "6c4f5e82",
   "metadata": {},
   "outputs": [
    {
     "data": {
      "text/plain": [
       "['BlockingIOError',\n",
       " 'BufferedIOBase',\n",
       " 'BufferedRWPair',\n",
       " 'BufferedRandom',\n",
       " 'BufferedReader',\n",
       " 'BufferedWriter',\n",
       " 'BytesIO',\n",
       " 'DEFAULT_BUFFER_SIZE',\n",
       " 'FileIO',\n",
       " 'IOBase',\n",
       " 'IncrementalNewlineDecoder',\n",
       " 'RawIOBase',\n",
       " 'SEEK_CUR',\n",
       " 'SEEK_END',\n",
       " 'SEEK_SET',\n",
       " 'StringIO',\n",
       " 'TextIOBase',\n",
       " 'TextIOWrapper',\n",
       " 'UnsupportedOperation',\n",
       " '_WindowsConsoleIO',\n",
       " '__all__',\n",
       " '__author__',\n",
       " '__builtins__',\n",
       " '__cached__',\n",
       " '__doc__',\n",
       " '__file__',\n",
       " '__getattr__',\n",
       " '__loader__',\n",
       " '__name__',\n",
       " '__package__',\n",
       " '__spec__',\n",
       " '_io',\n",
       " 'abc',\n",
       " 'open',\n",
       " 'open_code',\n",
       " 'text_encoding']"
      ]
     },
     "execution_count": 5,
     "metadata": {},
     "output_type": "execute_result"
    }
   ],
   "source": [
    "dir(io)"
   ]
  },
  {
   "cell_type": "code",
   "execution_count": null,
   "id": "e301d703",
   "metadata": {},
   "outputs": [],
   "source": []
  }
 ],
 "metadata": {
  "kernelspec": {
   "display_name": "Python 3 (ipykernel)",
   "language": "python",
   "name": "python3"
  },
  "language_info": {
   "codemirror_mode": {
    "name": "ipython",
    "version": 3
   },
   "file_extension": ".py",
   "mimetype": "text/x-python",
   "name": "python",
   "nbconvert_exporter": "python",
   "pygments_lexer": "ipython3",
   "version": "3.10.4"
  }
 },
 "nbformat": 4,
 "nbformat_minor": 5
}
